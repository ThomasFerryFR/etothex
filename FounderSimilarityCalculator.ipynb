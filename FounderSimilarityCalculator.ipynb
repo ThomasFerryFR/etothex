{
 "cells": [
  {
   "cell_type": "markdown",
   "metadata": {},
   "source": [
    "# IEOR 135: Applied Data Science for Venture Applications\n",
    "## The Holy Grail of Venture Capital\n",
    "\n",
    "Project Team: Julian Chan, Thomas Ferry, Mudit Goyal, Nitin Sampath, Yuan Zhou\n",
    "\n",
    "IPython Notebook: Julian Chan"
   ]
  },
  {
   "cell_type": "code",
   "execution_count": 47,
   "metadata": {
    "collapsed": true
   },
   "outputs": [],
   "source": [
    "import numpy as np\n",
    "import pandas as pd"
   ]
  },
  {
   "cell_type": "code",
   "execution_count": 70,
   "metadata": {
    "collapsed": true,
    "scrolled": false
   },
   "outputs": [],
   "source": [
    "founders = pd.read_excel(\"data/Independent Variable Input.xlsx\")\n",
    "\n",
    "# Remove the founders for whom we only have their name and company name\n",
    "founders.dropna(axis=0, thresh=9, inplace=True)\n",
    "\n",
    "# Remove the features for which we have less than 25% of the data populated\n",
    "cols_to_remove = []\n",
    "for col in founders.columns:\n",
    "    if founders[col].isnull().sum()/founders[col].shape[0] > 0.75:\n",
    "        cols_to_remove.append(col)\n",
    "founders.drop(cols_to_remove, axis=1, inplace=True)\n",
    "\n",
    "# Initialize weights for each feature; assume 2 columns are founder name and company name\n",
    "weights = np.array([np.random.uniform(0, 1) for _ in range(founders.shape[1] - 2)])"
   ]
  },
  {
   "cell_type": "code",
   "execution_count": 71,
   "metadata": {
    "collapsed": true
   },
   "outputs": [],
   "source": [
    "class FounderSimilarityCalculator:\n",
    "    def __init__(self, data, weights):\n",
    "        \"\"\"\n",
    "        Input:\n",
    "            data: pandas dataframe of feature values (assumes founder name is first column, company name is second column)\n",
    "            weights: array of weights for each feature to be used in determining \"distance\" between founders\n",
    "        \"\"\"\n",
    "        self.founders = data.iloc[:,0] # the first column is assumed to be founder name\n",
    "        self.companies = data.iloc[:,1] # the second column is assumed to be company name\n",
    "        self.features = data.iloc[:,2:]\n",
    "        self.weights = weights\n",
    "        assert self.features.shape[1] == len(self.weights) # ensure that the # of weights corresponds to # of features\n",
    "    \n",
    "    def _computeSimpleDistance(self, founder1_index, founder2_index):\n",
    "        \"\"\"\n",
    "        Computes the \"distance\" between two founders using the Euclidean norm.\n",
    "        distance(A, B) = (A0 - B0)^2 + ... (An - Bn)^2\n",
    "        \n",
    "        Input:\n",
    "            founder1_index: integer index of founder 1\n",
    "            founder2_index: integer index of founder 2\n",
    "        \"\"\"\n",
    "        founder1 = self.founders.iloc[founder1_index]\n",
    "        founder2 = self.founders.iloc[founder2_index]\n",
    "        \n",
    "        features1 = self.features.iloc[founder1_index,:]\n",
    "        features2 = self.features.iloc[founder2_index,:]\n",
    "        \n",
    "        simple_distance = 0\n",
    "        for i in range(features1.shape[0]):\n",
    "            if isinstance(features1[i], str) and isinstance(features2[i], str):\n",
    "                if features1[i] == features2[i]:\n",
    "                    simple_distance += 1\n",
    "            elif isinstance(features1[i], float) and isinstance(features2[i], float):\n",
    "                if not (np.isnan(features1[i]) and np.isnan(features2[i])):\n",
    "                    if features1[i] == features2[i]:\n",
    "                        simple_distance += 1\n",
    "                        \n",
    "        return simple_distance/features1.shape[0]\n",
    "    \n",
    "    def _computeWeightedDistance(self, founder1_index, founder2_index):\n",
    "        \"\"\"\n",
    "        Computes the weighted \"distance\" between two founders using the Euclidean norm.\n",
    "        distance(A, B) = w0*(A0 - B0)^2 + ... wn*(An - Bn)^2\n",
    "        \n",
    "        Input:\n",
    "            founder1_index: integer index of founder 1\n",
    "            founder2_index: integer index of founder 2\n",
    "        \"\"\"\n",
    "        founder1 = self.founders.iloc[founder1_index]\n",
    "        founder2 = self.founders.iloc[founder2_index]\n",
    "        \n",
    "        features1 = self.features.iloc[founder1_index,:]\n",
    "        features2 = self.features.iloc[founder2_index,:]\n",
    "        \n",
    "        weighted_distance = 0\n",
    "        for i in range(features1.shape[0]):\n",
    "            if isinstance(features1[i], str) and isinstance(features2[i], str):\n",
    "                if features1[i] == features2[i]:\n",
    "                        weighted_distance += self.weights[i]\n",
    "            elif isinstance(features1[i], float) and isinstance(features2[i], float):\n",
    "                if not (np.isnan(features1[i]) and np.isnan(features2[i])):\n",
    "                    if features1[i] == features2[i]:\n",
    "                        weighted_distance += self.weights[i]\n",
    "                        \n",
    "        return weighted_distance/features1.shape[0]\n",
    "    \n",
    "    def computeDistance(self, founder1_index, founder2_index, metric=\"simple\"):\n",
    "        if metric == \"simple\":\n",
    "            return self._computeSimpleDistance(founder1_index, founder2_index)\n",
    "        elif metric == \"weighted\":\n",
    "            return self._computeWeightedDistance(founder1_index, founder2_index)\n",
    "    \n",
    "    def findKClosestFounders(self, k, founder_index, metric=\"simple\"):\n",
    "        \"\"\"\n",
    "        Finds the k closest founders in terms of distance (using the metric specified) to the founder corresponding to\n",
    "        founder_index.\n",
    "        \n",
    "        Input:\n",
    "            k: # of most similar founders\n",
    "            founder_index: integer index of founder of whom we wish to find similar founders\n",
    "        \"\"\"\n",
    "        assert k < self.founders.shape[0]\n",
    "        \n",
    "        dist = np.empty(self.founders.shape[0])\n",
    "        dist.fill(float('inf'))\n",
    "        \n",
    "        for i in range(self.founders.shape[0]):\n",
    "            if i == founder_index:\n",
    "                continue\n",
    "            dist[i] = self.computeDistance(founder_index, i, metric)\n",
    "            \n",
    "        min_indices = dist.argsort()[:k]\n",
    "        \n",
    "        closest_founders = []\n",
    "        closest_companies = []\n",
    "        for i in min_indices:\n",
    "            closest_founders.append(self.founders.iloc[i])\n",
    "            closest_companies.append(self.companies.iloc[i])\n",
    "        \n",
    "        return closest_founders, closest_companies"
   ]
  },
  {
   "cell_type": "code",
   "execution_count": 76,
   "metadata": {},
   "outputs": [
    {
     "name": "stdout",
     "output_type": "stream",
     "text": [
      "Simple | Weighted\n",
      "('Osman Khan', 'Paddle8') | ('Osman Khan', 'Paddle8')\n",
      "('Rachel Carlson', 'Guild Education') | ('Rachel Carlson', 'Guild Education')\n",
      "('Xander Oxman', 'Winc') | ('Joshua Feast', 'Cogito Corporation')\n",
      "('Bhavin Shah', 'Refresh.io') | ('Alfred Chuang', 'Magnet Systems Inc.')\n",
      "('Alfred Chuang', 'Magnet Systems Inc.') | ('James Gwertzman', 'PlayFab, Inc.')\n",
      "('James Gwertzman', 'PlayFab, Inc.') | ('Rashid Mansoor', 'Hadean')\n",
      "('Jim Kean', 'WellnessFX') | ('Xander Oxman', 'Winc')\n",
      "('Rashid Mansoor', 'Hadean') | ('Jim Kean', 'WellnessFX')\n",
      "('Prem Uppaluru', 'Transera Communications') | ('Prem Uppaluru', 'Transera Communications')\n",
      "('Rob Principe', 'Scratch Music Group') | ('Bhavin Shah', 'Refresh.io')\n"
     ]
    }
   ],
   "source": [
    "fsc = FounderSimilarityCalculator(founders, weights)\n",
    "\n",
    "closest_founders_simple, closest_companies_simple = fsc.findKClosestFounders(10, 0, \"simple\")\n",
    "closest_founders_weighted, closest_companies_weighted = fsc.findKClosestFounders(10, 0, \"weighted\")\n",
    "\n",
    "simple = list(zip(closest_founders_simple, closest_companies_simple))\n",
    "weighted = list(zip(closest_founders_weighted, closest_companies_weighted))\n",
    "\n",
    "print(\"Simple | Weighted\")\n",
    "for i in range(len(simple)):\n",
    "    print(simple[i], \"|\", weighted[i])"
   ]
  },
  {
   "cell_type": "code",
   "execution_count": null,
   "metadata": {
    "collapsed": true
   },
   "outputs": [],
   "source": []
  }
 ],
 "metadata": {
  "kernelspec": {
   "display_name": "Python 3",
   "language": "python",
   "name": "python3"
  },
  "language_info": {
   "codemirror_mode": {
    "name": "ipython",
    "version": 3
   },
   "file_extension": ".py",
   "mimetype": "text/x-python",
   "name": "python",
   "nbconvert_exporter": "python",
   "pygments_lexer": "ipython3",
   "version": "3.6.1"
  }
 },
 "nbformat": 4,
 "nbformat_minor": 2
}
